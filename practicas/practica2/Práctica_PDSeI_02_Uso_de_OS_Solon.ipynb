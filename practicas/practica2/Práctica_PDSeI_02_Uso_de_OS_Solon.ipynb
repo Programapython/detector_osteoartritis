{
  "nbformat": 4,
  "nbformat_minor": 0,
  "metadata": {
    "colab": {
      "provenance": [],
      "include_colab_link": true
    },
    "kernelspec": {
      "name": "python3",
      "display_name": "Python 3"
    },
    "language_info": {
      "name": "python"
    }
  },
  "cells": [
    {
      "cell_type": "markdown",
      "metadata": {
        "id": "view-in-github",
        "colab_type": "text"
      },
      "source": [
        "<a href=\"https://colab.research.google.com/github/Programapython/detector_osteoartritis/blob/main/practicas/practica2/Pr%C3%A1ctica_PDSeI_02_Uso_de_OS_Solon.ipynb\" target=\"_parent\"><img src=\"https://colab.research.google.com/assets/colab-badge.svg\" alt=\"Open In Colab\"/></a>"
      ]
    },
    {
      "cell_type": "markdown",
      "source": [
        "# Uso de la Librería `os` en Python\n",
        "\n",
        "\n",
        "La librería `os` proporciona una interfaz para interactuar con el sistema operativo, lo que permite a los desarrolladores realizar tareas como:\n",
        "\n",
        "- **Gestión de Archivos y Directorios**: Listar, crear y manipular archivos y directorios que contienen conjuntos de datos de entrenamiento y prueba.\n",
        "- **Interacción con el Entorno**: Obtener información sobre el sistema, acceder a variables de entorno y gestionar configuraciones específicas del proyecto.\n",
        "- **Ejecutar Procesos**: Facilitar la ejecución de scripts y la gestión de procesos en segundo plano, permitiendo un desarrollo más eficiente y organizado."
      ],
      "metadata": {
        "id": "MYC4WNTCoI6S"
      }
    },
    {
      "cell_type": "markdown",
      "source": [
        "## 1. Exploración y Gestión de Archivos y Directorios"
      ],
      "metadata": {
        "id": "cqPq9Fejounh"
      }
    },
    {
      "cell_type": "markdown",
      "source": [
        "\n",
        "### 1.1 Listar Archivos en un Directorio\n",
        "\n",
        "La función `os.listdir()` permite listar todos los archivos en un directorio especificado. A continuación, crearemos una función para listar los archivos en un directorio dado."
      ],
      "metadata": {
        "id": "9gKC_gWAqE9D"
      }
    },
    {
      "cell_type": "code",
      "source": [
        "!pwd\n"
      ],
      "metadata": {
        "colab": {
          "base_uri": "https://localhost:8080/"
        },
        "id": "fDnnFe2WWfvc",
        "outputId": "312e3fd0-d3d4-4635-9334-67b113516a61"
      },
      "execution_count": 1,
      "outputs": [
        {
          "output_type": "stream",
          "name": "stdout",
          "text": [
            "/content\n"
          ]
        }
      ]
    },
    {
      "cell_type": "code",
      "source": [
        "import os\n",
        "\n",
        "def listar_archivos_en_directorio(path):\n",
        "    archivos = os.listdir(path)\n",
        "    return archivos"
      ],
      "metadata": {
        "id": "7Mbba26cmprQ"
      },
      "execution_count": 50,
      "outputs": []
    },
    {
      "cell_type": "code",
      "source": [
        "# Usa la función anterior\n",
        "listar_archivos_en_directorio('./dataset')\n"
      ],
      "metadata": {
        "id": "ydQTnkdiqOXz",
        "colab": {
          "base_uri": "https://localhost:8080/"
        },
        "outputId": "236df173-567d-48af-cd59-e4e9f8ffcafc"
      },
      "execution_count": 5,
      "outputs": [
        {
          "output_type": "execute_result",
          "data": {
            "text/plain": [
              "['.ipynb_checkpoints', 'train', 'test']"
            ]
          },
          "metadata": {},
          "execution_count": 5
        }
      ]
    },
    {
      "cell_type": "markdown",
      "source": [
        "### 1.2 Filtrar Archivos por Extensión\n",
        "\n",
        "A menudo es necesario filtrar archivos por extensión."
      ],
      "metadata": {
        "id": "zoeo0rqZpk-d"
      }
    },
    {
      "cell_type": "code",
      "source": [
        "def filtrar_archivos_por_extension(path, extension):\n",
        "    archivos = [f for f in os.listdir(path) if f.endswith(extension)]\n",
        "    return archivos"
      ],
      "metadata": {
        "id": "k_D7xcUFplQy"
      },
      "execution_count": 7,
      "outputs": []
    },
    {
      "cell_type": "code",
      "source": [
        "# Usa la función anterior\n",
        "filtrar_archivos_por_extension('./dataset/test','.png')"
      ],
      "metadata": {
        "id": "LYR_LJ34qMm9",
        "colab": {
          "base_uri": "https://localhost:8080/"
        },
        "outputId": "86c44e30-2027-45ce-e5a4-e13fabcdbea4"
      },
      "execution_count": 22,
      "outputs": [
        {
          "output_type": "execute_result",
          "data": {
            "text/plain": [
              "['02.png', '01.png', '03.png']"
            ]
          },
          "metadata": {},
          "execution_count": 22
        }
      ]
    },
    {
      "cell_type": "code",
      "source": [
        "# Crea la función \"filtrar_imagenes\" que permita filtrar todos los archivos que son .png y .jpg\n",
        "def filtrar_imagenes(path):\n",
        "      archivos_png = [f for f in os.listdir(path) if f.endswith('.png')]\n",
        "      archivos_jpg = [f for f in os.listdir(path) if f.endswith('.jpg')]\n",
        "      return archivos_png,archivos_jpg"
      ],
      "metadata": {
        "id": "DXZCS2rAwsVH"
      },
      "execution_count": 10,
      "outputs": []
    },
    {
      "cell_type": "code",
      "source": [
        "ipng, ijpg = filtrar_imagenes('dataset/train')\n",
        "print(ipng,ijpg)"
      ],
      "metadata": {
        "colab": {
          "base_uri": "https://localhost:8080/"
        },
        "id": "JjRmquyfTTT_",
        "outputId": "57fa91b5-8059-42e2-d56b-ec8e77eb6d26"
      },
      "execution_count": 23,
      "outputs": [
        {
          "output_type": "stream",
          "name": "stdout",
          "text": [
            "['02.png'] ['01.jpg']\n"
          ]
        }
      ]
    },
    {
      "cell_type": "markdown",
      "source": [
        "### 1.3 Crear carpeta para almacenar resultados\n",
        "\n",
        "Es comun crear directorios para almacenar los resultados de modelos entrenados, predicciones o visualizaciones."
      ],
      "metadata": {
        "id": "dGv_AeJ6qtn_"
      }
    },
    {
      "cell_type": "code",
      "source": [
        "def crear_directorio(path):\n",
        "    if not os.path.exists(path):\n",
        "        os.makedirs(path)\n",
        "    print(f\"Directorio '{path}' creado o ya existente.\")"
      ],
      "metadata": {
        "id": "8FMmMJLYqfs6"
      },
      "execution_count": 12,
      "outputs": []
    },
    {
      "cell_type": "code",
      "source": [
        "# Usa la función anterior\n",
        "crear_directorio('./dataset/novo')"
      ],
      "metadata": {
        "id": "BF8xOCS8q-EX",
        "colab": {
          "base_uri": "https://localhost:8080/"
        },
        "outputId": "b414d9ec-39fc-4990-8574-c17d625fd423"
      },
      "execution_count": 16,
      "outputs": [
        {
          "output_type": "stream",
          "name": "stdout",
          "text": [
            "Directorio './dataset/novo' creado o ya existente.\n"
          ]
        }
      ]
    },
    {
      "cell_type": "markdown",
      "source": [
        "### 1.4 Para leer variables de entorno configuradas\n",
        "\n",
        "En caso de datos sensibles como `API_KEY` o `Token` privados"
      ],
      "metadata": {
        "id": "JnXViPNFrAMC"
      }
    },
    {
      "cell_type": "code",
      "source": [
        "def obtener_variable_entorno(variable):\n",
        "    valor = os.getenv(variable)\n",
        "    if valor:\n",
        "        print(f\"{variable}: {valor}\")\n",
        "    else:\n",
        "        print(f\"La variable de entorno {variable} no está definida.\")"
      ],
      "metadata": {
        "id": "o9aMVjnFq_Ur"
      },
      "execution_count": 17,
      "outputs": []
    },
    {
      "cell_type": "code",
      "source": [
        "# Creando una variable de entorno\n",
        "os.environ['TEST'] = 'valor'"
      ],
      "metadata": {
        "id": "M5o1FcD8sFrc"
      },
      "execution_count": 63,
      "outputs": []
    },
    {
      "cell_type": "code",
      "source": [
        "# Usar funcion para obtener variables de entorno\n",
        "obtener_variable_entorno('TEST')"
      ],
      "metadata": {
        "id": "9Y8Je1XVsMMK",
        "colab": {
          "base_uri": "https://localhost:8080/"
        },
        "outputId": "7c09a9bf-4d92-4089-8bba-78e480e4c895"
      },
      "execution_count": 64,
      "outputs": [
        {
          "output_type": "stream",
          "name": "stdout",
          "text": [
            "TEST: valor\n"
          ]
        }
      ]
    },
    {
      "cell_type": "markdown",
      "source": [
        "## 2. Preprocesamiento en bloques\n",
        "\n",
        "Esto se aplica cuando se requiere hacer los mismos cambios a todas las imágenes del conjunto de datos"
      ],
      "metadata": {
        "id": "d6TnpM6ou_Rd"
      }
    },
    {
      "cell_type": "markdown",
      "source": [
        "### 2.1. Redimencionamiento"
      ],
      "metadata": {
        "id": "v9LfCFuKzoVm"
      }
    },
    {
      "cell_type": "code",
      "source": [
        "import os\n",
        "import cv2\n",
        "import matplotlib.pyplot as plt\n",
        "\n",
        "def preprocesar_imagenes_cv2(directorio_origen, directorio_destino, nuevo_tamaño):\n",
        "    crear_directorio(directorio_destino)\n",
        "\n",
        "    for archivo in os.listdir(directorio_origen):\n",
        "        if archivo.endswith('.jpg') or archivo.endswith('.png'):\n",
        "            ruta_completa = os.path.join(directorio_origen, archivo)\n",
        "\n",
        "            imagen = cv2.imread(ruta_completa)\n",
        "\n",
        "            if imagen is None:\n",
        "                print(f\"No se pudo leer la imagen {archivo}.\")\n",
        "                continue\n",
        "\n",
        "            imagen_redimensionada = cv2.resize(imagen, nuevo_tamaño)\n",
        "\n",
        "            cv2.imwrite(os.path.join(directorio_destino, archivo), imagen_redimensionada)\n",
        "            print(f\"Imagen {archivo} redimensionada y guardada.\")"
      ],
      "metadata": {
        "id": "Ix49g8iStMoW"
      },
      "execution_count": 21,
      "outputs": []
    },
    {
      "cell_type": "code",
      "source": [
        "# Usar la función anterior\n",
        "# Nuevo tamaño es una tupla ejemplo (128, 128)\n",
        "\n",
        "preprocesar_imagenes_cv2('./dataset/train','./dataset/novo',(100,100))\n"
      ],
      "metadata": {
        "id": "d5pki9VPwJKy",
        "colab": {
          "base_uri": "https://localhost:8080/"
        },
        "outputId": "51c63002-8244-4908-ea6c-9c7743663bd2"
      },
      "execution_count": 25,
      "outputs": [
        {
          "output_type": "stream",
          "name": "stdout",
          "text": [
            "Directorio './dataset/novo' creado o ya existente.\n",
            "Imagen 01.jpg redimensionada y guardada.\n",
            "Imagen 02.png redimensionada y guardada.\n"
          ]
        }
      ]
    },
    {
      "cell_type": "markdown",
      "source": [
        "### 2.2 Mostrar imágen aleatoria"
      ],
      "metadata": {
        "id": "rJhCzYnZyfZ7"
      }
    },
    {
      "cell_type": "code",
      "source": [
        "import random\n",
        "\n",
        "def mostrar_imagen_aleatoria(directorio_base,):\n",
        "    conjunto = random.choice(listar_archivos_en_directorio_2(directorio_base))\n",
        "    directorio = os.path.join(directorio_base, conjunto)\n",
        "\n",
        "    imagenes = [f for f in os.listdir(directorio) if not f.endswith('.ipynb_checkpoints')] # Verificar que todos los archivos sean imágenes\n",
        "    if not imagenes:\n",
        "        print(f\"No hay imágenes en el directorio {directorio}.\")\n",
        "        return\n",
        "\n",
        "    imagen_aleatoria = random.choice(imagenes)\n",
        "    ruta_imagen = os.path.join(directorio, imagen_aleatoria)\n",
        "\n",
        "    imagen = cv2.imread(ruta_imagen)\n",
        "    imagen_rgb = cv2.cvtColor(imagen, cv2.COLOR_BGR2RGB)\n",
        "\n",
        "    plt.imshow(imagen_rgb)\n",
        "    plt.title(f\"Imagen aleatoria de {conjunto}: {imagen_aleatoria}, de {directorio}\")\n",
        "    plt.show()"
      ],
      "metadata": {
        "id": "P7NFRKGBwQ7V"
      },
      "execution_count": 128,
      "outputs": []
    },
    {
      "cell_type": "code",
      "source": [
        "# Usar función anterior\n",
        "mostrar_imagen_aleatoria('./dataset')"
      ],
      "metadata": {
        "id": "9eOEhwO_z54K",
        "colab": {
          "base_uri": "https://localhost:8080/",
          "height": 357
        },
        "outputId": "1c495572-35c1-428b-a07b-186f6cf4f75f"
      },
      "execution_count": 137,
      "outputs": [
        {
          "output_type": "stream",
          "name": "stdout",
          "text": [
            "./dataset/test/03.png\n"
          ]
        },
        {
          "output_type": "display_data",
          "data": {
            "text/plain": [
              "<Figure size 640x480 with 1 Axes>"
            ],
            "image/png": "[encoded data removed]"
          },
          "metadata": {}
        }
      ]
    }
  ]
}