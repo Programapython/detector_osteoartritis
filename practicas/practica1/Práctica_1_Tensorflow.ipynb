{
  "cells": [
    {
      "cell_type": "markdown",
      "metadata": {
        "id": "view-in-github",
        "colab_type": "text"
      },
      "source": [
        "<a href=\"https://colab.research.google.com/github/Programapython/detector_osteoartritis/blob/main/practicas/practica1/Pr%C3%A1ctica_1_Tensorflow.ipynb\" target=\"_parent\"><img src=\"https://colab.research.google.com/assets/colab-badge.svg\" alt=\"Open In Colab\"/></a>"
      ]
    },
    {
      "cell_type": "markdown",
      "metadata": {
        "id": "3wF5wszaj97Y"
      },
      "source": [
        "# TensorFlow - Hola mundo!\n"
      ]
    },
    {
      "cell_type": "markdown",
      "metadata": {
        "id": "WsmULAsYPHhE"
      },
      "source": [
        "**La base de datos**"
      ]
    },
    {
      "cell_type": "code",
      "execution_count": null,
      "metadata": {
        "colab": {
          "base_uri": "https://localhost:8080/",
          "height": 621
        },
        "id": "Fyh0H7aaPQQ5",
        "outputId": "bee07408-4e92-494f-a3a0-929881e36415"
      },
      "outputs": [
        {
          "data": {
            "text/html": [
              "\n",
              "        <iframe\n",
              "            width=\"800\"\n",
              "            height=\"600\"\n",
              "            src=\"https://www.kaggle.com/datasets/salil007/caavo\"\n",
              "            frameborder=\"0\"\n",
              "            allowfullscreen\n",
              "            \n",
              "        ></iframe>\n",
              "        "
            ],
            "text/plain": [
              "<IPython.lib.display.IFrame at 0x79c564390df0>"
            ]
          },
          "execution_count": 4,
          "metadata": {},
          "output_type": "execute_result"
        }
      ],
      "source": [
        "from IPython.display import IFrame\n",
        "url = \"https://www.kaggle.com/datasets/salil007/caavo\"\n",
        "IFrame(url, width=800, height=600)"
      ]
    },
    {
      "cell_type": "markdown",
      "metadata": {
        "id": "nnrWf3PCEzXL"
      },
      "source": [
        "## Preparación de TensorFlow\n",
        "\n",
        "Importamos TensorFlow al programa:"
      ]
    },
    {
      "cell_type": "code",
      "execution_count": null,
      "metadata": {
        "colab": {
          "base_uri": "https://localhost:8080/"
        },
        "id": "0trJmd6DjqBZ",
        "outputId": "2fa8527f-e806-4d2a-ca5a-686a5bb6294d"
      },
      "outputs": [
        {
          "name": "stdout",
          "output_type": "stream",
          "text": [
            "TensorFlow version: 2.17.0\n"
          ]
        }
      ],
      "source": [
        "import tensorflow as tf\n",
        "import matplotlib.pyplot as plt\n",
        "\n",
        "print(\"TensorFlow version:\", tf.__version__)"
      ]
    },
    {
      "cell_type": "markdown",
      "metadata": {
        "id": "okfSeA2mNhOP"
      },
      "source": [
        "Importamos la librería opendatasets para descargar conjuntos de datos de Kaggle."
      ]
    },
    {
      "cell_type": "code",
      "execution_count": null,
      "metadata": {
        "colab": {
          "base_uri": "https://localhost:8080/"
        },
        "collapsed": true,
        "id": "rm4HhqF8MW7p",
        "outputId": "debdac2e-459a-431d-c562-bd430f1b35f8"
      },
      "outputs": [
        {
          "name": "stdout",
          "output_type": "stream",
          "text": [
            "Collecting opendatasets\n",
            "  Downloading opendatasets-0.1.22-py3-none-any.whl.metadata (9.2 kB)\n",
            "Requirement already satisfied: tqdm in /usr/local/lib/python3.10/dist-packages (from opendatasets) (4.66.5)\n",
            "Requirement already satisfied: kaggle in /usr/local/lib/python3.10/dist-packages (from opendatasets) (1.6.17)\n",
            "Requirement already satisfied: click in /usr/local/lib/python3.10/dist-packages (from opendatasets) (8.1.7)\n",
            "Requirement already satisfied: six>=1.10 in /usr/local/lib/python3.10/dist-packages (from kaggle->opendatasets) (1.16.0)\n",
            "Requirement already satisfied: certifi>=2023.7.22 in /usr/local/lib/python3.10/dist-packages (from kaggle->opendatasets) (2024.8.30)\n",
            "Requirement already satisfied: python-dateutil in /usr/local/lib/python3.10/dist-packages (from kaggle->opendatasets) (2.8.2)\n",
            "Requirement already satisfied: requests in /usr/local/lib/python3.10/dist-packages (from kaggle->opendatasets) (2.32.3)\n",
            "Requirement already satisfied: python-slugify in /usr/local/lib/python3.10/dist-packages (from kaggle->opendatasets) (8.0.4)\n",
            "Requirement already satisfied: urllib3 in /usr/local/lib/python3.10/dist-packages (from kaggle->opendatasets) (2.2.3)\n",
            "Requirement already satisfied: bleach in /usr/local/lib/python3.10/dist-packages (from kaggle->opendatasets) (6.1.0)\n",
            "Requirement already satisfied: webencodings in /usr/local/lib/python3.10/dist-packages (from bleach->kaggle->opendatasets) (0.5.1)\n",
            "Requirement already satisfied: text-unidecode>=1.3 in /usr/local/lib/python3.10/dist-packages (from python-slugify->kaggle->opendatasets) (1.3)\n",
            "Requirement already satisfied: charset-normalizer<4,>=2 in /usr/local/lib/python3.10/dist-packages (from requests->kaggle->opendatasets) (3.3.2)\n",
            "Requirement already satisfied: idna<4,>=2.5 in /usr/local/lib/python3.10/dist-packages (from requests->kaggle->opendatasets) (3.10)\n",
            "Downloading opendatasets-0.1.22-py3-none-any.whl (15 kB)\n",
            "Installing collected packages: opendatasets\n",
            "Successfully installed opendatasets-0.1.22\n"
          ]
        }
      ],
      "source": [
        "!pip install opendatasets\n",
        "import opendatasets as od"
      ]
    },
    {
      "cell_type": "markdown",
      "metadata": {
        "id": "7NAbSZiaoJ4z"
      },
      "source": [
        "## Carga de un conjunto de datos\n",
        "\n",
        "[Clothes Classification](https://www.kaggle.com/datasets/salil007/caavo)"
      ]
    },
    {
      "cell_type": "code",
      "execution_count": null,
      "metadata": {
        "colab": {
          "base_uri": "https://localhost:8080/"
        },
        "id": "IHAbEcZiMOdN",
        "outputId": "473586ce-2d9a-4457-82da-9441f19c75fa"
      },
      "outputs": [
        {
          "name": "stdout",
          "output_type": "stream",
          "text": [
            "Please provide your Kaggle credentials to download this dataset. Learn more: http://bit.ly/kaggle-creds\n",
            "Your Kaggle username: wjsl13\n",
            "Your Kaggle Key: ··········\n",
            "Dataset URL: https://www.kaggle.com/datasets/salil007/caavo\n",
            "Downloading caavo.zip to ./caavo\n"
          ]
        },
        {
          "name": "stderr",
          "output_type": "stream",
          "text": [
            "100%|██████████| 618M/618M [00:17<00:00, 36.5MB/s]\n"
          ]
        },
        {
          "name": "stdout",
          "output_type": "stream",
          "text": [
            "\n"
          ]
        }
      ],
      "source": [
        "dataset = \"https://www.kaggle.com/datasets/salil007/caavo\"\n",
        "od.download(dataset)"
      ]
    },
    {
      "cell_type": "markdown",
      "metadata": {
        "id": "a6hecOZOPehq"
      },
      "source": [
        "Configuración de la data"
      ]
    },
    {
      "cell_type": "code",
      "execution_count": null,
      "metadata": {
        "colab": {
          "base_uri": "https://localhost:8080/"
        },
        "id": "zY5r_JV9Qish",
        "outputId": "a9f07107-b1c2-414d-bd99-8941ac03aa5a"
      },
      "outputs": [
        {
          "data": {
            "text/plain": [
              "['train', 'samp_sub.csv', 'test']"
            ]
          },
          "execution_count": 8,
          "metadata": {},
          "output_type": "execute_result"
        }
      ],
      "source": [
        "import os\n",
        "os.chdir(\"/content/caavo\")\n",
        "os.listdir(\"/content/caavo\")"
      ]
    },
    {
      "cell_type": "code",
      "execution_count": null,
      "metadata": {
        "colab": {
          "background_save": true
        },
        "id": "pqXEKqrERFwg",
        "outputId": "20cd8895-9465-4e55-cd80-76646ca1ea41"
      },
      "outputs": [
        {
          "name": "stdout",
          "output_type": "stream",
          "text": [
            "Se procesaron 62258 imágenes con tamaño (224, 224) cada una.\n"
          ]
        }
      ],
      "source": [
        "import cv2\n",
        "import os\n",
        "import numpy as np\n",
        "\n",
        "def procesar_imagenes(folder_path, target_size=(224, 224)):\n",
        "    image_files = [f for f in os.listdir(folder_path) if f.endswith(('.jpg', '.jpeg', '.png'))]\n",
        "\n",
        "    imagenes_procesadas = []\n",
        "\n",
        "    for filename in image_files:\n",
        "        img_path = os.path.join(folder_path, filename)\n",
        "\n",
        "        img = cv2.imread(img_path)\n",
        "\n",
        "        img = cv2.cvtColor(img, cv2.COLOR_BGR2GRAY)\n",
        "\n",
        "        img = cv2.resize(img, target_size)\n",
        "\n",
        "        imagenes_procesadas.append(img)\n",
        "\n",
        "    return np.array(imagenes_procesadas)\n",
        "\n",
        "folder_path = '/content/caavo/train/train/'\n",
        "\n",
        "imagenes_procesadas = procesar_imagenes(folder_path)\n",
        "\n",
        "print(f\"Se procesaron {imagenes_procesadas.shape[0]} imágenes con tamaño {imagenes_procesadas.shape[1:]} cada una.\")\n"
      ]
    },
    {
      "cell_type": "code",
      "execution_count": null,
      "metadata": {
        "colab": {
          "base_uri": "https://localhost:8080/",
          "height": 448
        },
        "id": "7FP5258xjs-v",
        "outputId": "8ace1ca5-5677-4180-9860-7087b5c24799"
      },
      "outputs": [
        {
          "data": {
            "text/plain": [
              "<matplotlib.image.AxesImage at 0x7bfaab8eeb60>"
            ]
          },
          "execution_count": 12,
          "metadata": {},
          "output_type": "execute_result"
        },
        {
          "data": {
            "image/png": "[encoded data removed]",
            "text/plain": [
              "<Figure size 640x480 with 1 Axes>"
            ]
          },
          "metadata": {},
          "output_type": "display_data"
        }
      ],
      "source": [
        "(x_train, y_train), (x_test, y_test) = cifar100.load_data()\n",
        "x_train, x_test = x_train / 255.0, x_test / 255.0\n",
        "\n",
        "plt.imshow(x_train[1], cmap=\"gray\")"
      ]
    },
    {
      "cell_type": "markdown",
      "metadata": {
        "id": "BPZ68wASog_I"
      },
      "source": [
        "## Creación de un modelo de aprendizaje automático\n",
        "\n",
        "Cree un modelo `tf.keras.Sequential`:"
      ]
    },
    {
      "cell_type": "code",
      "execution_count": null,
      "metadata": {
        "colab": {
          "base_uri": "https://localhost:8080/"
        },
        "id": "h3IKyzTCDNGo",
        "outputId": "c4f5a68c-f6e9-4671-e2e2-22533896ce1f"
      },
      "outputs": [
        {
          "name": "stderr",
          "output_type": "stream",
          "text": [
            "/usr/local/lib/python3.10/dist-packages/keras/src/layers/reshaping/flatten.py:37: UserWarning: Do not pass an `input_shape`/`input_dim` argument to a layer. When using Sequential models, prefer using an `Input(shape)` object as the first layer in the model instead.\n",
            "  super().__init__(**kwargs)\n"
          ]
        }
      ],
      "source": [
        "model = tf.keras.models.Sequential([\n",
        "\n",
        "  tf.keras.layers.Flatten(input_shape=(32, 32,3)),\n",
        "\n",
        "  tf.keras.layers.Dense(128, activation='relu'),\n",
        "\n",
        "  tf.keras.layers.Dropout(0.2),\n",
        "\n",
        "  tf.keras.layers.Dense(100)\n",
        "])"
      ]
    },
    {
      "cell_type": "markdown",
      "metadata": {
        "id": "l2hiez2eIUz8"
      },
      "source": [
        "[`Sequential`](https://www.tensorflow.org/guide/keras/sequential_model) es útil para apilar capas donde cada una tiene un [tensor](https://www.tensorflow.org/guide/tensor) de entrada y uno de salida. Las capas son funciones con una estructura matemática desconocida que se puede reutilizar y que tiene variables entrenables. La mayoría de los modelos TensorFlow están compuestos por capas. Este modelo usa las capas [`Flatten`](https://www.tensorflow.org/api_docs/python/tf/keras/layers/Flatten), [`Dense`](https://www.tensorflow.org/api_docs/python/tf/keras/layers/Dense) y [`Dropout`](https://www.tensorflow.org/api_docs/python/tf/keras/layers/Dropout).\n",
        "\n",
        "Para cada ejemplo, el modelo devuelve un vector de [logits](https://developers.google.com/machine-learning/glossary#logits) o puntajes de [log-odds](https://developers.google.com/machine-learning/glossary#log-odds) (registro de probabilidades) por cada clase."
      ]
    },
    {
      "cell_type": "code",
      "execution_count": null,
      "metadata": {
        "colab": {
          "base_uri": "https://localhost:8080/"
        },
        "id": "OeOrNdnkEEcR",
        "outputId": "0c0751dd-b59f-4cca-9ad3-49d353399256"
      },
      "outputs": [
        {
          "data": {
            "text/plain": [
              "array([[-0.18478662,  0.16266268,  0.15657592,  1.3735139 ,  0.48021877,\n",
              "        -0.41910285, -0.59568036,  0.50237054,  0.20089337,  0.69678557,\n",
              "         1.032598  , -0.62536263,  0.13896737,  0.47836155, -0.9402652 ,\n",
              "        -0.0514926 , -1.1528369 , -0.5863404 ,  0.27686107,  0.4155635 ,\n",
              "        -0.70588505, -0.11056677,  0.30232334,  0.71741086, -1.1478113 ,\n",
              "        -0.5842693 , -0.9835627 , -0.5640001 , -0.28173906, -0.7107874 ,\n",
              "        -0.12204459, -0.41069835,  0.39589465, -1.9365305 , -0.24432781,\n",
              "         0.36065966,  1.2570717 , -1.2818315 ,  0.5169447 , -0.9592601 ,\n",
              "        -0.30764246,  0.5784672 ,  0.12360495, -0.3634019 , -0.67253244,\n",
              "        -0.22579384,  0.47982514, -0.12007391,  0.3308771 , -0.094229  ,\n",
              "        -0.41482484,  0.7490312 , -0.2756874 ,  0.03961388,  1.2256699 ,\n",
              "        -0.312816  ,  0.74362457, -0.2804219 ,  0.32960644,  1.032596  ,\n",
              "         0.06312904,  0.02149136,  0.6638867 , -0.4484217 ,  1.4431188 ,\n",
              "        -0.23446865, -0.07666175, -1.1603504 , -0.22595493,  0.51803434,\n",
              "         0.5400004 ,  0.44044608,  0.4182389 , -0.04290238,  1.1225494 ,\n",
              "         0.44748017, -0.6778967 ,  0.17239228, -0.7254475 ,  0.42539895,\n",
              "         0.3636952 ,  0.78466487, -0.7982348 ,  0.05078711,  0.3105073 ,\n",
              "         0.3601399 ,  0.80253136,  0.9432056 ,  0.11612987, -0.6251598 ,\n",
              "         0.02735077, -0.03172618, -0.34153014, -0.53057766, -0.11917681,\n",
              "         0.5592452 ,  0.77403593,  0.28762436, -0.05910355, -0.31224543]],\n",
              "      dtype=float32)"
            ]
          },
          "execution_count": 32,
          "metadata": {},
          "output_type": "execute_result"
        }
      ],
      "source": [
        "predictions = model(x_train[:1]).numpy()\n",
        "predictions"
      ]
    },
    {
      "cell_type": "markdown",
      "metadata": {
        "id": "tgjhDQGcIniO"
      },
      "source": [
        "La función `tf.nn.softmax` convierte estas funciones logits en *probabilidades* para cada clase:"
      ]
    },
    {
      "cell_type": "code",
      "execution_count": null,
      "metadata": {
        "colab": {
          "base_uri": "https://localhost:8080/"
        },
        "id": "zWSRnQ0WI5eq",
        "outputId": "2a4c6ee0-9dde-4313-89f8-de1959a21ef9"
      },
      "outputs": [
        {
          "data": {
            "text/plain": [
              "array([[0.00668673, 0.00946475, 0.00940732, 0.03176693, 0.01300236,\n",
              "        0.00528995, 0.00443369, 0.0132936 , 0.0098336 , 0.0161464 ,\n",
              "        0.02259006, 0.00430402, 0.00924312, 0.01297823, 0.00314133,\n",
              "        0.00764017, 0.00253977, 0.00447529, 0.01060975, 0.01218828,\n",
              "        0.00397103, 0.0072019 , 0.01088336, 0.01648289, 0.00255257,\n",
              "        0.00448457, 0.00300822, 0.0045764 , 0.00606887, 0.00395161,\n",
              "        0.00711971, 0.0053346 , 0.0119509 , 0.00115996, 0.00630022,\n",
              "        0.01153714, 0.02827516, 0.00223241, 0.01348876, 0.00308222,\n",
              "        0.00591369, 0.01434468, 0.00910221, 0.00559297, 0.00410571,\n",
              "        0.00641807, 0.01299724, 0.00713376, 0.0111986 , 0.00732053,\n",
              "        0.00531263, 0.01701241, 0.00610571, 0.00836893, 0.02740106,\n",
              "        0.00588317, 0.01692068, 0.00607687, 0.01118438, 0.02259001,\n",
              "        0.00856806, 0.00821863, 0.01562385, 0.00513711, 0.03405683,\n",
              "        0.00636264, 0.00745027, 0.00252076, 0.00641704, 0.01350346,\n",
              "        0.01380336, 0.01249537, 0.01222094, 0.00770608, 0.02471626,\n",
              "        0.01258357, 0.00408375, 0.00955729, 0.00389411, 0.01230875,\n",
              "        0.01157221, 0.01762955, 0.00362074, 0.00846296, 0.0109728 ,\n",
              "        0.01153115, 0.01794736, 0.0206583 , 0.00903442, 0.00430489,\n",
              "        0.00826692, 0.00779269, 0.00571664, 0.00473193, 0.00714016,\n",
              "        0.01407158, 0.01744316, 0.01072456, 0.00758224, 0.00588653]],\n",
              "      dtype=float32)"
            ]
          },
          "execution_count": 33,
          "metadata": {},
          "output_type": "execute_result"
        }
      ],
      "source": [
        "tf.nn.softmax(predictions).numpy()"
      ]
    },
    {
      "cell_type": "markdown",
      "metadata": {
        "id": "he5u_okAYS4a"
      },
      "source": [
        "Nota: es posible aplicar la función `tf.nn.softmax` en la función de activación para la última capa de la red. Si bien esto puede hacer que la salida del modelo se interprete más directamente, este enfoque no se recomienda ya que es imposible proporcionar un cálculo de pérdida numéricamente estable y exacto para todos los modelos con salida softmax."
      ]
    },
    {
      "cell_type": "markdown",
      "metadata": {
        "id": "hQyugpgRIyrA"
      },
      "source": [
        "Defina la función de pérdida para el entrenamiento con `losses.SparseCategoricalCrossentropy`:"
      ]
    },
    {
      "cell_type": "markdown",
      "metadata": {
        "id": "obtIM5geZPYP"
      },
      "source": [
        "[Cross entropía binaria](https://www.v7labs.com/blog/cross-entropy-loss-guide)"
      ]
    },
    {
      "cell_type": "code",
      "execution_count": null,
      "metadata": {
        "colab": {
          "base_uri": "https://localhost:8080/"
        },
        "id": "z2q1vAENd9rF",
        "outputId": "575bac82-e11e-49ff-d7d7-2c2801623d88"
      },
      "outputs": [
        {
          "data": {
            "text/plain": [
              "array([[19],\n",
              "       [29],\n",
              "       [ 0],\n",
              "       ...,\n",
              "       [ 3],\n",
              "       [ 7],\n",
              "       [73]])"
            ]
          },
          "execution_count": 34,
          "metadata": {},
          "output_type": "execute_result"
        }
      ],
      "source": [
        "y_train"
      ]
    },
    {
      "cell_type": "code",
      "execution_count": null,
      "metadata": {
        "id": "RSkzdv8MD0tT"
      },
      "outputs": [],
      "source": [
        "loss_fn = tf.keras.losses.SparseCategoricalCrossentropy(from_logits=True)"
      ]
    },
    {
      "cell_type": "markdown",
      "metadata": {
        "id": "SfR4MsSDU880"
      },
      "source": [
        "La función de pérdida toma un vector de valores verdaderos de base y un vector de logits y devuelve una pérdida escalar para cada ejemplo. Esta pérdida es igual a la probabilidad de registro negativa de la clase verdadera: La pérdida es cero si el modelo está seguro de la clase correcta.\n",
        "\n",
        "El modelo sin entrenar arroja probabilidades cercanas al lo aleatorio (1/10 para cada clase), entonces, la pérdida inicial debería estar cerca de `-tf.math.log(1/10) ~= 2.3`.\n",
        "\n",
        "La entrópia cruzada para un modelo no entrenado `Pérdida=−log(y)`"
      ]
    },
    {
      "cell_type": "code",
      "execution_count": null,
      "metadata": {
        "colab": {
          "base_uri": "https://localhost:8080/"
        },
        "id": "nN5pj_ITbJkS",
        "outputId": "fe57f800-8b86-4ef7-a49f-72e5984456a2"
      },
      "outputs": [
        {
          "data": {
            "text/plain": [
              "array([[[71]]])"
            ]
          },
          "execution_count": 36,
          "metadata": {},
          "output_type": "execute_result"
        }
      ],
      "source": [
        "y_train[y_train[:1]]"
      ]
    },
    {
      "cell_type": "code",
      "execution_count": null,
      "metadata": {
        "colab": {
          "base_uri": "https://localhost:8080/"
        },
        "id": "NJWqEVrrJ7ZB",
        "outputId": "0eee71a8-89a5-4773-c2fa-465c9ce6e8a5"
      },
      "outputs": [
        {
          "data": {
            "text/plain": [
              "4.40728"
            ]
          },
          "execution_count": 37,
          "metadata": {},
          "output_type": "execute_result"
        }
      ],
      "source": [
        "loss_fn(y_train[:1], predictions).numpy()"
      ]
    },
    {
      "cell_type": "markdown",
      "metadata": {
        "id": "ada44eb947d4"
      },
      "source": [
        "Antes de empezar el entrenamiento, configure y compile el modelo con Keras `Model.compile`. Configure la clase del [`optimizador`](https://www.tensorflow.org/api_docs/python/tf/keras/optimizers) como `adam`, establezca `loss` para la función `loss_fn` que definió antes y especifique una métrica a evaluar para el modelo, mediante la determinación del parámetro `metrics` para `accuracy`."
      ]
    },
    {
      "cell_type": "code",
      "execution_count": null,
      "metadata": {
        "id": "9foNKHzTD2Vo"
      },
      "outputs": [],
      "source": [
        "model.compile(optimizer=tf.keras.optimizers.Adam(learning_rate=0.001,),\n",
        "              loss=loss_fn,\n",
        "              metrics=['accuracy'])"
      ]
    },
    {
      "cell_type": "markdown",
      "metadata": {
        "id": "ix4mEL65on-w"
      },
      "source": [
        "## Entrenamiento y evaluación del modelo\n",
        "\n",
        "Use el método `Model.fit` para ajustar los parámetros del modelo y minimizar la pérdida:"
      ]
    },
    {
      "cell_type": "code",
      "execution_count": null,
      "metadata": {
        "colab": {
          "base_uri": "https://localhost:8080/"
        },
        "id": "y7suUbJXVLqP",
        "outputId": "e074d171-a561-44d6-a220-ca6c2855024e"
      },
      "outputs": [
        {
          "name": "stdout",
          "output_type": "stream",
          "text": [
            "Epoch 1/15\n",
            "\u001b[1m1563/1563\u001b[0m \u001b[32m━━━━━━━━━━━━━━━━━━━━\u001b[0m\u001b[37m\u001b[0m \u001b[1m12s\u001b[0m 8ms/step - accuracy: 0.0332 - loss: 4.3402\n",
            "Epoch 2/15\n",
            "\u001b[1m1563/1563\u001b[0m \u001b[32m━━━━━━━━━━━━━━━━━━━━\u001b[0m\u001b[37m\u001b[0m \u001b[1m18s\u001b[0m 7ms/step - accuracy: 0.0321 - loss: 4.3339\n",
            "Epoch 3/15\n",
            "\u001b[1m1563/1563\u001b[0m \u001b[32m━━━━━━━━━━━━━━━━━━━━\u001b[0m\u001b[37m\u001b[0m \u001b[1m21s\u001b[0m 7ms/step - accuracy: 0.0334 - loss: 4.3343\n",
            "Epoch 4/15\n",
            "\u001b[1m1563/1563\u001b[0m \u001b[32m━━━━━━━━━━━━━━━━━━━━\u001b[0m\u001b[37m\u001b[0m \u001b[1m11s\u001b[0m 7ms/step - accuracy: 0.0325 - loss: 4.3323\n",
            "Epoch 5/15\n",
            "\u001b[1m1563/1563\u001b[0m \u001b[32m━━━━━━━━━━━━━━━━━━━━\u001b[0m\u001b[37m\u001b[0m \u001b[1m11s\u001b[0m 7ms/step - accuracy: 0.0325 - loss: 4.3376\n",
            "Epoch 6/15\n",
            "\u001b[1m1563/1563\u001b[0m \u001b[32m━━━━━━━━━━━━━━━━━━━━\u001b[0m\u001b[37m\u001b[0m \u001b[1m21s\u001b[0m 7ms/step - accuracy: 0.0322 - loss: 4.3287\n",
            "Epoch 7/15\n",
            "\u001b[1m1563/1563\u001b[0m \u001b[32m━━━━━━━━━━━━━━━━━━━━\u001b[0m\u001b[37m\u001b[0m \u001b[1m21s\u001b[0m 7ms/step - accuracy: 0.0337 - loss: 4.3209\n",
            "Epoch 8/15\n",
            "\u001b[1m1563/1563\u001b[0m \u001b[32m━━━━━━━━━━━━━━━━━━━━\u001b[0m\u001b[37m\u001b[0m \u001b[1m20s\u001b[0m 7ms/step - accuracy: 0.0354 - loss: 4.3159\n",
            "Epoch 9/15\n",
            "\u001b[1m1563/1563\u001b[0m \u001b[32m━━━━━━━━━━━━━━━━━━━━\u001b[0m\u001b[37m\u001b[0m \u001b[1m11s\u001b[0m 7ms/step - accuracy: 0.0345 - loss: 4.3138\n",
            "Epoch 10/15\n",
            "\u001b[1m1563/1563\u001b[0m \u001b[32m━━━━━━━━━━━━━━━━━━━━\u001b[0m\u001b[37m\u001b[0m \u001b[1m14s\u001b[0m 9ms/step - accuracy: 0.0365 - loss: 4.2997\n",
            "Epoch 11/15\n",
            "\u001b[1m1563/1563\u001b[0m \u001b[32m━━━━━━━━━━━━━━━━━━━━\u001b[0m\u001b[37m\u001b[0m \u001b[1m11s\u001b[0m 7ms/step - accuracy: 0.0369 - loss: 4.3025\n",
            "Epoch 12/15\n",
            "\u001b[1m1563/1563\u001b[0m \u001b[32m━━━━━━━━━━━━━━━━━━━━\u001b[0m\u001b[37m\u001b[0m \u001b[1m20s\u001b[0m 7ms/step - accuracy: 0.0372 - loss: 4.2879\n",
            "Epoch 13/15\n",
            "\u001b[1m1563/1563\u001b[0m \u001b[32m━━━━━━━━━━━━━━━━━━━━\u001b[0m\u001b[37m\u001b[0m \u001b[1m21s\u001b[0m 7ms/step - accuracy: 0.0398 - loss: 4.2800\n",
            "Epoch 14/15\n",
            "\u001b[1m1563/1563\u001b[0m \u001b[32m━━━━━━━━━━━━━━━━━━━━\u001b[0m\u001b[37m\u001b[0m \u001b[1m20s\u001b[0m 7ms/step - accuracy: 0.0392 - loss: 4.2813\n",
            "Epoch 15/15\n",
            "\u001b[1m1563/1563\u001b[0m \u001b[32m━━━━━━━━━━━━━━━━━━━━\u001b[0m\u001b[37m\u001b[0m \u001b[1m11s\u001b[0m 7ms/step - accuracy: 0.0429 - loss: 4.2596\n"
          ]
        },
        {
          "data": {
            "text/plain": [
              "<keras.src.callbacks.history.History at 0x7bfaab80f610>"
            ]
          },
          "execution_count": 43,
          "metadata": {},
          "output_type": "execute_result"
        }
      ],
      "source": [
        "model.fit(x_train, y_train, epochs=15)"
      ]
    },
    {
      "cell_type": "markdown",
      "metadata": {
        "id": "4mDAAPFqVVgn"
      },
      "source": [
        "El método `Model.evaluate` controla el desempeño del modelo, por lo general con un [conjunto de evaluación](https://developers.google.com/machine-learning/glossary#validation-set) o un [conjunto de prueba](https://developers.google.com/machine-learning/glossary#test-set)."
      ]
    },
    {
      "cell_type": "code",
      "execution_count": null,
      "metadata": {
        "colab": {
          "base_uri": "https://localhost:8080/"
        },
        "id": "F7dTAzgHDUh7",
        "outputId": "f8bdb9cc-5b07-40d0-8e5b-2001f7edfe16"
      },
      "outputs": [
        {
          "name": "stdout",
          "output_type": "stream",
          "text": [
            "313/313 - 1s - 2ms/step - accuracy: 0.0606 - loss: 4.1392\n"
          ]
        },
        {
          "data": {
            "text/plain": [
              "[4.139200687408447, 0.060600001364946365]"
            ]
          },
          "execution_count": 44,
          "metadata": {},
          "output_type": "execute_result"
        }
      ],
      "source": [
        "model.evaluate(x_test,  y_test, verbose=2)"
      ]
    },
    {
      "cell_type": "markdown",
      "metadata": {
        "id": "T4JfEh7kvx6m"
      },
      "source": [
        "El clasificador de imágenes ahora está entrenado para proporcionar ~98% de exactitud en este conjunto de datos. Para más información, lea los [tutoriales de TensorFlow](https://www.tensorflow.org/tutorials/)."
      ]
    },
    {
      "cell_type": "markdown",
      "metadata": {
        "id": "Aj8NrlzlJqDG"
      },
      "source": [
        "Si desea que su modelo devuelva una probabilidad, puede empaquetar el modelo entrenado y adjuntarle el softmax:"
      ]
    },
    {
      "cell_type": "code",
      "execution_count": null,
      "metadata": {
        "id": "rYb6DrEH0GMv"
      },
      "outputs": [],
      "source": [
        "probability_model = tf.keras.Sequential([\n",
        "  model,\n",
        "  tf.keras.layers.Softmax()\n",
        "])"
      ]
    },
    {
      "cell_type": "code",
      "execution_count": null,
      "metadata": {
        "colab": {
          "base_uri": "https://localhost:8080/"
        },
        "id": "cnqOZtUp1YR_",
        "outputId": "b8baf5cb-649b-40bb-9c8d-4cbd444235ce"
      },
      "outputs": [
        {
          "data": {
            "text/plain": [
              "<tf.Tensor: shape=(1, 100), dtype=float32, numpy=\n",
              "array([[1.04825020e-04, 9.13500693e-03, 3.78441229e-03, 3.00522265e-03,\n",
              "        4.29385900e-03, 9.51342285e-03, 1.25326391e-03, 1.51599103e-04,\n",
              "        1.40807936e-02, 3.52860405e-03, 4.60137799e-03, 5.79677895e-03,\n",
              "        3.13310474e-02, 2.18052454e-02, 3.62323626e-04, 1.13904728e-02,\n",
              "        3.29902745e-03, 1.75018897e-04, 1.07719889e-03, 1.03971893e-02,\n",
              "        8.06189841e-04, 7.25376792e-03, 7.19553232e-03, 3.83492969e-02,\n",
              "        2.96295948e-05, 9.58812702e-03, 2.11571506e-03, 5.41584566e-03,\n",
              "        5.07400697e-03, 6.28682273e-03, 4.61662225e-02, 5.29566256e-04,\n",
              "        1.90755986e-02, 1.27424952e-02, 1.54481549e-03, 5.27547952e-03,\n",
              "        3.43630370e-03, 1.99799184e-02, 3.84032167e-03, 1.90653410e-02,\n",
              "        9.60110407e-03, 1.47291878e-03, 2.58413726e-03, 5.50128461e-04,\n",
              "        2.57688598e-03, 2.17277929e-03, 1.11692473e-02, 8.44174938e-04,\n",
              "        8.70533288e-03, 4.22615819e-02, 2.92757596e-03, 4.18201089e-03,\n",
              "        8.36296067e-07, 6.48682499e-06, 9.92430747e-03, 8.52676760e-03,\n",
              "        2.00913921e-02, 6.04504603e-04, 1.52183603e-02, 2.66128656e-04,\n",
              "        1.55621208e-02, 6.70203613e-03, 1.30475336e-03, 7.31693697e-04,\n",
              "        5.14149806e-03, 6.38463674e-03, 3.05192824e-03, 2.67960262e-02,\n",
              "        3.06076817e-02, 4.97485138e-02, 3.07784835e-03, 4.36066017e-02,\n",
              "        1.70435030e-02, 5.11970147e-02, 4.39247349e-04, 1.48098613e-03,\n",
              "        4.68847118e-02, 1.79777900e-03, 1.47925131e-03, 4.13665362e-03,\n",
              "        2.91711232e-03, 1.36763817e-02, 1.54441397e-04, 7.32665649e-05,\n",
              "        5.19706262e-03, 1.16276145e-02, 2.67401966e-03, 8.63885600e-03,\n",
              "        4.07544168e-04, 7.11270003e-03, 1.68965831e-02, 1.30820591e-02,\n",
              "        2.42265081e-03, 3.02025303e-02, 3.76704527e-04, 5.00043072e-02,\n",
              "        1.50098151e-03, 4.34290571e-03, 3.90232727e-03, 1.10710701e-02]],\n",
              "      dtype=float32)>"
            ]
          },
          "execution_count": 46,
          "metadata": {},
          "output_type": "execute_result"
        }
      ],
      "source": [
        "probability_model(x_test[:1])"
      ]
    },
    {
      "cell_type": "markdown",
      "metadata": {
        "id": "-47O6_GLdRuT"
      },
      "source": [
        "## Conclusión\n",
        "\n",
        "¡Felicitaciones! Ha entrenado un modelo de entrenamiento automático con un conjunto de datos predeterminado usando la API [Keras](https://www.tensorflow.org/guide/keras/overview).\n",
        "\n",
        "Para acceder a más ejemplos sobre el uso de Keras, consulte los [tutoriales](https://www.tensorflow.org/tutorials/keras/). Para más información sobre cómo crear modelos con Keras, lea las [guías](https://www.tensorflow.org/guide/keras). Si quiere aprender más sobre cómo cargar y preparar los datos, mire los tutoriales sobre [carga de datos de imágenes](https://www.tensorflow.org/tutorials/load_data/images) o [carga de datos CSV](https://www.tensorflow.org/tutorials/load_data/csv).\n"
      ]
    }
  ],
  "metadata": {
    "colab": {
      "provenance": [],
      "include_colab_link": true
    },
    "kernelspec": {
      "display_name": "Python 3",
      "name": "python3"
    }
  },
  "nbformat": 4,
  "nbformat_minor": 0
}